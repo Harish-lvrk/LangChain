{
 "cells": [
  {
   "cell_type": "markdown",
   "id": "5de2d941",
   "metadata": {},
   "source": [
    "chat gpt link: https://chatgpt.com/share/68d3f55e-1858-8007-b6cc-7cb345083737"
   ]
  },
  {
   "cell_type": "code",
   "execution_count": 1,
   "id": "0128d93e",
   "metadata": {},
   "outputs": [
    {
     "name": "stdout",
     "output_type": "stream",
     "text": [
      "{'name': 'Hareesh', 'age': 35}\n",
      "<class 'dict'>\n"
     ]
    }
   ],
   "source": [
    "from typing import TypedDict\n",
    "\n",
    "class Person(TypedDict):\n",
    "\n",
    "    name: str\n",
    "    age: int\n",
    "\n",
    "new_person : Person = {'name':\"Hareesh\", 'age':35}\n",
    "\n",
    "print(new_person)\n",
    "print(type(new_person))"
   ]
  },
  {
   "cell_type": "code",
   "execution_count": 3,
   "id": "aa760aca",
   "metadata": {},
   "outputs": [
    {
     "name": "stderr",
     "output_type": "stream",
     "text": [
      "E0000 00:00:1758722844.890297   59414 alts_credentials.cc:93] ALTS creds ignored. Not running on GCP and untrusted ALTS is not enabled.\n"
     ]
    },
    {
     "name": "stdout",
     "output_type": "stream",
     "text": [
      "{'sentiment': 'negative', 'summary': 'Kannappa movie review'}\n"
     ]
    }
   ],
   "source": [
    "from langchain_google_genai import ChatGoogleGenerativeAI\n",
    "\n",
    "from typing import TypedDict\n",
    "\n",
    "from dotenv import load_dotenv\n",
    "\n",
    "load_dotenv()\n",
    "\n",
    "llm = ChatGoogleGenerativeAI(model = \"gemini-1.5-flash-latest\")\n",
    "\n",
    "class Review(TypedDict):\n",
    "\n",
    "    summary : str\n",
    "    sentiment : str\n",
    "\n",
    "# where some llms provide the structdrued output some are not\n",
    "\n",
    "structured_model = llm.with_structured_output(Review)\n",
    "\n",
    "result = structured_model.invoke(\"\"\"Kannappa had the potential to be a great folk tale with devotional sentiment, but sadly, it falls flat in many areas.\n",
    "\n",
    "The first half was honestly a struggle to sit through—poor pacing and a lack of engagement. The final 30 minutes do pick up a bit, especially after Prabhas’s entry, which brings some energy and star power. But even that can only do so much.\n",
    "\n",
    "Visually, it feels like a throwback to old-school devotional movies, but with modern CGI effects... and not in a good way. The VFX and CGI work are far from believable—at times, it honestly reminded me of something straight out of a Naagin TV series.\n",
    "\n",
    "They packed the film with big celebrity cameos, but none of them left a lasting impact. Action sequences felt artificial and over-the-top. Songs are forgettable and don’t leave you humming after.\n",
    "\n",
    "Also, random observation: the main heroine’s running scenes unintentionally turned into comedy for me—couldn’t help but chuckle there.\n",
    "\n",
    "On top of all that, for a movie that’s supposed to lean devotional, there are a few awkward, steamy scenes between the leads that might make it uncomfortable even if you take your parents along.\n",
    "\n",
    "My rating?\n",
    "Honestly, the only reason I’d give it any points is for Prabhas’s cameo. He pulled off his part with charisma and presence.\"\"\"\n",
    ")\n",
    "\n",
    "print(result)\n"
   ]
  },
  {
   "cell_type": "code",
   "execution_count": 5,
   "id": "55ebc621",
   "metadata": {},
   "outputs": [
    {
     "name": "stderr",
     "output_type": "stream",
     "text": [
      "/media/rgukt/data/LangChain/venv/lib/python3.10/site-packages/tqdm/auto.py:21: TqdmWarning: IProgress not found. Please update jupyter and ipywidgets. See https://ipywidgets.readthedocs.io/en/stable/user_install.html\n",
      "  from .autonotebook import tqdm as notebook_tqdm\n",
      "WARNING: All log messages before absl::InitializeLog() is called are written to STDERR\n",
      "E0000 00:00:1758777538.913009    7285 alts_credentials.cc:93] ALTS creds ignored. Not running on GCP and untrusted ALTS is not enabled.\n"
     ]
    },
    {
     "name": "stdout",
     "output_type": "stream",
     "text": [
      "{'rating': 2, 'sentiment': 'negative', 'summary': 'Kannappa had the potential to be a great folk tale with devotional sentiment, but sadly, it falls flat in many areas. The first half was honestly a struggle to sit through—poor pacing and a lack of engagement. The final 30 minutes do pick up a bit, especially after Prabhas’s entry, which brings some energy and star power. But even that can only do so much. Visually, it feels like a throwback to old-school devotional movies, but with modern CGI effects... and not in a good way. The VFX and CGI work are far from believable—at times, it honestly reminded me of something straight out of a Naagin TV series. They packed the film with big celebrity cameos, but none of them left a lasting impact. Action sequences felt artificial and over-the-top. Songs are forgettable and don’t leave you humming after. Also, random observation: the main heroine’s running scenes unintentionally turned into comedy for me—couldn’t help but chuckle there. On top of all that, for a movie that’s supposed to lean devotional, there are a few awkward, steamy scenes between the leads that might make it uncomfortable even if you take your parents along. The only reason I’d give it any points is for Prabhas’s cameo. He pulled off his part with charisma and presence.'}\n"
     ]
    }
   ],
   "source": [
    "from langchain_google_genai import ChatGoogleGenerativeAI\n",
    "\n",
    "from typing import TypedDict, Annotated\n",
    "\n",
    "from dotenv import load_dotenv\n",
    "\n",
    "load_dotenv()\n",
    "\n",
    "llm = ChatGoogleGenerativeAI(model = \"gemini-1.5-flash-latest\")\n",
    "\n",
    "class Review(TypedDict):\n",
    "\n",
    "    summary: Annotated[str, 'Generate a brief summary']\n",
    "    sentiment: Annotated[str, 'Give Positive, Negative, or Neutral']\n",
    "    rating: Annotated[int, 'Give the rating as an integer out of 5 based on the review']\n",
    "    \n",
    "\n",
    "# where some llms provide the structdrued output some are not\n",
    "\n",
    "structured_model = llm.with_structured_output(Review)\n",
    "\n",
    "result = structured_model.invoke(\"\"\"Kannappa had the potential to be a great folk tale with devotional sentiment, but sadly, it falls flat in many areas.\n",
    "\n",
    "The first half was honestly a struggle to sit through—poor pacing and a lack of engagement. The final 30 minutes do pick up a bit, especially after Prabhas’s entry, which brings some energy and star power. But even that can only do so much.\n",
    "\n",
    "Visually, it feels like a throwback to old-school devotional movies, but with modern CGI effects... and not in a good way. The VFX and CGI work are far from believable—at times, it honestly reminded me of something straight out of a Naagin TV series.\n",
    "\n",
    "They packed the film with big celebrity cameos, but none of them left a lasting impact. Action sequences felt artificial and over-the-top. Songs are forgettable and don’t leave you humming after.\n",
    "\n",
    "Also, random observation: the main heroine’s running scenes unintentionally turned into comedy for me—couldn’t help but chuckle there.\n",
    "\n",
    "On top of all that, for a movie that’s supposed to lean devotional, there are a few awkward, steamy scenes between the leads that might make it uncomfortable even if you take your parents along.\n",
    "\n",
    "My rating?\n",
    "Honestly, the only reason I’d give it any points is for Prabhas’s cameo. He pulled off his part with charisma and presence.\"\"\"\n",
    ")\n",
    "\n",
    "print(result)\n"
   ]
  },
  {
   "cell_type": "code",
   "execution_count": 6,
   "id": "525dee09",
   "metadata": {},
   "outputs": [
    {
     "name": "stderr",
     "output_type": "stream",
     "text": [
      "E0000 00:00:1758777553.616530    7285 alts_credentials.cc:93] ALTS creds ignored. Not running on GCP and untrusted ALTS is not enabled.\n"
     ]
    },
    {
     "name": "stdout",
     "output_type": "stream",
     "text": [
      "{'rating': 1, 'pros': ['Prabhas’s cameo.'], 'sentiment': 'Negative', 'cons': [], 'summary': 'Kannappa is a disappointing devotional film. The pacing is poor, the VFX and CGI are unconvincing, and the celebrity cameos and songs fail to make an impact. The only highlight is a charismatic cameo performance.', 'key_points': 'The movie is a letdown, with its only redeeming quality being a celebrity cameo.'}\n",
      "Summary: Kannappa is a disappointing devotional film. The pacing is poor, the VFX and CGI are unconvincing, and the celebrity cameos and songs fail to make an impact. The only highlight is a charismatic cameo performance.\n"
     ]
    }
   ],
   "source": [
    "from langchain_google_genai import ChatGoogleGenerativeAI\n",
    "from typing import TypedDict, Annotated, Optional\n",
    "from dotenv import load_dotenv\n",
    "\n",
    "load_dotenv()\n",
    "\n",
    "llm = ChatGoogleGenerativeAI(model=\"gemini-2.5-pro\")\n",
    "\n",
    "class Review(TypedDict):\n",
    "    key_points: Annotated[str, 'Provide all the key points discussed in this review']\n",
    "    summary: Annotated[str, 'Generate a brief summary']\n",
    "    sentiment: Annotated[str, 'Give Positive, Negative, or Neutral']\n",
    "    rating: Annotated[int, 'Give the rating as an integer out of 5 based on the review']\n",
    "    pros: Annotated[Optional[list[str]], 'Write down all the pros inside a list']\n",
    "    cons: Annotated[Optional[list[str]], 'Write down all the cons inside a list']\n",
    "\n",
    "\n",
    "# Some LLMs provide structured output, some do not\n",
    "structured_model = llm.with_structured_output(Review)\n",
    "\n",
    "kannapa = \"\"\"Kannappa had the potential to be a great folk tale with devotional sentiment, but sadly, it falls flat in many areas.\n",
    "\n",
    "The first half was honestly a struggle to sit through—poor pacing and a lack of engagement. The final 30 minutes do pick up a bit, especially after Prabhas’s entry, which brings some energy and star power. But even that can only do so much.\n",
    "\n",
    "Visually, it feels like a throwback to old-school devotional movies, but with modern CGI effects... and not in a good way. The VFX and CGI work are far from believable—at times, it honestly reminded me of something straight out of a Naagin TV series.\n",
    "\n",
    "They packed the film with big celebrity cameos, but none of them left a lasting impact. Action sequences felt artificial and over-the-top. Songs are forgettable and don’t leave you humming after.\n",
    "\n",
    "Also, random observation: the main heroine’s running scenes unintentionally turned into comedy for me—couldn’t help but chuckle there.\n",
    "\n",
    "On top of all that, for a movie that’s supposed to lean devotional, there are a few awkward, steamy scenes between the leads that might make it uncomfortable even if you take your parents along.\n",
    "\n",
    "My rating?\n",
    "Honestly, the only reason I’d give it any points is for Prabhas’s cameo. He pulled off his part with charisma and presence.\"\"\"\n",
    "\n",
    "review_1 = \"\"\"The movie promised an exciting story but fell flat from the start.\n",
    "The pacing was uneven, making it hard to stay engaged.\n",
    "Special effects looked cheap and unconvincing.\n",
    "Overall, it was a disappointing watch with little to enjoy.\"\"\"\n",
    "\n",
    "\n",
    "\n",
    "\n",
    "result = structured_model.invoke(kannapa)\n",
    "\n",
    "print(result)\n",
    "print(\"Summary:\", result['summary'])\n"
   ]
  },
  {
   "cell_type": "markdown",
   "id": "4fb31712",
   "metadata": {},
   "source": [
    "from typedict we can not do the validation"
   ]
  },
  {
   "cell_type": "code",
   "execution_count": 7,
   "id": "5f98d895",
   "metadata": {},
   "outputs": [
    {
     "name": "stdout",
     "output_type": "stream",
     "text": [
      "name='Hareesh'\n",
      "<class 'pydantic._internal._model_construction.ModelMetaclass'>\n",
      "<class '__main__.Student'>\n"
     ]
    }
   ],
   "source": [
    "from pydantic import BaseModel\n",
    "\n",
    "class Student(BaseModel):\n",
    "    name : str\n",
    "\n",
    "new_student ={'name':\"Hareesh\"}\n",
    "\n",
    "\n",
    "\n",
    "Student1 = Student(**new_student)\n",
    "\n",
    "\n",
    "print(Student1)\n",
    "\n",
    "print(type(Student))\n",
    "\n",
    "print(type(Student1))\n",
    "\n",
    "\n",
    "# student2 = Student(name=32) # this thorws an error \n",
    "\n",
    "# print(student2)\n"
   ]
  },
  {
   "cell_type": "markdown",
   "id": "613e6a98",
   "metadata": {},
   "source": [
    "This is how we can dod the validation of the data "
   ]
  },
  {
   "cell_type": "markdown",
   "id": "5d0988c2",
   "metadata": {},
   "source": [
    "### Pydantci structrued ouput\n"
   ]
  },
  {
   "cell_type": "code",
   "execution_count": 8,
   "id": "04392605",
   "metadata": {},
   "outputs": [
    {
     "name": "stderr",
     "output_type": "stream",
     "text": [
      "E0000 00:00:1758777584.704905    7285 alts_credentials.cc:93] ALTS creds ignored. Not running on GCP and untrusted ALTS is not enabled.\n"
     ]
    },
    {
     "name": "stdout",
     "output_type": "stream",
     "text": [
      "key_themes=['processor', 'battery life', 'camera', 'design', 'software', 'price'] summary='The Samsung Galaxy S24 Ultra is a powerful phone with a great camera and battery life, but it is expensive and has some software bloat.' sentiment='pos' pros=['Insanely powerful processor (great for gaming and productivity)', 'Stunning 200MP camera with incredible zoom capabilities', 'Long battery life with fast charging', 'S-Pen support is unique and useful'] cons=['heavy and large', 'bloatware', 'expensive'] name='LOTTI HAREESH'\n",
      "LOTTI HAREESH\n"
     ]
    }
   ],
   "source": [
    "from langchain_google_genai import ChatGoogleGenerativeAI\n",
    "from dotenv import load_dotenv\n",
    "from typing import TypedDict, Annotated, Optional, Literal\n",
    "from pydantic import BaseModel, Field\n",
    "\n",
    "load_dotenv()\n",
    "\n",
    "model = ChatGoogleGenerativeAI(model= 'gemini-2.5-flash-lite')\n",
    "\n",
    "# schema\n",
    "class Review(BaseModel):\n",
    "\n",
    "    key_themes: list[str] = Field(description=\"Write down all the key themes discussed in the review in a list\")\n",
    "    summary: str = Field(description=\"A brief summary of the review\")\n",
    "    sentiment: Literal[\"pos\", \"neg\"] = Field(description=\"Return sentiment of the review either negative, positive or neutral\")\n",
    "    pros: Optional[list[str]] = Field(default=None, description=\"Write down all the pros inside a list\")\n",
    "    cons: Optional[list[str]] = Field(default=None, description=\"Write down all the cons inside a list\")\n",
    "    name: Optional[str] = Field(default=None, description=\"Write the name of the reviewer\")\n",
    "    \n",
    "\n",
    "structured_model = model.with_structured_output(Review)\n",
    "\n",
    "result = structured_model.invoke(\"\"\"I recently upgraded to the Samsung Galaxy S24 Ultra, and I must say, it’s an absolute powerhouse! The Snapdragon 8 Gen 3 processor makes everything lightning fast—whether I’m gaming, multitasking, or editing photos. The 5000mAh battery easily lasts a full day even with heavy use, and the 45W fast charging is a lifesaver.\n",
    "\n",
    "The S-Pen integration is a great touch for note-taking and quick sketches, though I don't use it often. What really blew me away is the 200MP camera—the night mode is stunning, capturing crisp, vibrant images even in low light. Zooming up to 100x actually works well for distant objects, but anything beyond 30x loses quality.\n",
    "\n",
    "However, the weight and size make it a bit uncomfortable for one-handed use. Also, Samsung’s One UI still comes with bloatware—why do I need five different Samsung apps for things Google already provides? The $1,300 price tag is also a hard pill to swallow.\n",
    "\n",
    "Pros:\n",
    "Insanely powerful processor (great for gaming and productivity)\n",
    "Stunning 200MP camera with incredible zoom capabilities\n",
    "Long battery life with fast charging\n",
    "S-Pen support is unique and useful\n",
    "                                 \n",
    "Review by LOTTI HAREESH\n",
    "\"\"\")\n",
    "\n",
    "print(result)\n",
    "print(result.name)"
   ]
  },
  {
   "cell_type": "code",
   "execution_count": null,
   "id": "a8323c69",
   "metadata": {},
   "outputs": [
    {
     "name": "stderr",
     "output_type": "stream",
     "text": [
      "Key 'parameters' is not supported in schema, ignoring\n",
      "E0000 00:00:1758777736.689118    7285 alts_credentials.cc:93] ALTS creds ignored. Not running on GCP and untrusted ALTS is not enabled.\n"
     ]
    },
    {
     "name": "stdout",
     "output_type": "stream",
     "text": [
      "{'key_themes': ['processor performance', 'battery life', 'camera quality', 'S-Pen functionality', 'design and ergonomics', 'software bloatware', 'price'], 'sentiment': 'pos', 'pros': '[\"Insanely powerful processor (great for gaming and productivity)\", \"Stunning 200MP camera with incredible zoom capabilities\", \"Long battery life with fast charging\", \"S-Pen support is unique and useful\"]', 'cons': '[\"Large and heavy, making one-handed use uncomfortable\", \"Comes with bloatware from Samsung\", \"Expensive at $1,300\"]', 'summary': 'The Samsung Galaxy S24 Ultra is a powerful phone with an excellent processor, long battery life, and a high-quality camera. However, it is large, heavy, and comes with unwanted bloatware, all at a high price point.', 'name': 'LOTTI HAREESH'}\n"
     ]
    }
   ],
   "source": [
    "from langchain_google_genai import ChatGoogleGenerativeAI\n",
    "from dotenv import load_dotenv\n",
    "from typing import TypedDict, Annotated, Optional, Literal\n",
    "from pydantic import BaseModel, Field\n",
    "\n",
    "load_dotenv()\n",
    "\n",
    "model = ChatGoogleGenerativeAI(model ='gemini-2.5-flash-lite')\n",
    "\n",
    "# schema\n",
    "json_schema = {\n",
    "  \"title\": \"Review\",\n",
    "  \"type\": \"object\",\n",
    "  \"properties\": {\n",
    "    \"key_themes\": {\n",
    "      \"type\": \"array\",\n",
    "      \"items\": {\n",
    "        \"type\": \"string\"\n",
    "      },\n",
    "      \"description\": \"Write down all the key themes discussed in the review in a list\"\n",
    "    },\n",
    "    \"summary\": {\n",
    "      \"type\": \"string\",\n",
    "      \"description\": \"A brief summary of the review\"\n",
    "    },\n",
    "    \"sentiment\": {\n",
    "      \"type\": \"string\",\n",
    "      \"enum\": [\"pos\", \"neg\"],\n",
    "      \"descr iption\": \"Return sentiment of the review either negative, positive or neutral\"\n",
    "    },\n",
    "    \"pros\": {\n",
    "      \"type\": [\"array\", \"null\"],\n",
    "      \"items\": {\n",
    "        \"type\": \"string\"\n",
    "      },\n",
    "      \"description\": \"Write down all the pros inside a list\"\n",
    "    },\n",
    "    \"cons\": {\n",
    "      \"type\": [\"array\", \"null\"],\n",
    "      \"items\": {\n",
    "        \"type\": \"string\"\n",
    "      },\n",
    "      \"description\": \"Write down all the cons inside a list\"\n",
    "    },\n",
    "    \"name\": {\n",
    "      \"type\": [\"string\", \"null\"],\n",
    "      \"description\": \"Write the name of the reviewer\"\n",
    "    }\n",
    "  },\n",
    "  \"required\": [\"key_themes\", \"summary\", \"sentiment\"]\n",
    "}\n",
    "\n",
    "\n",
    "structured_model = model.with_structured_output(json_schema)\n",
    "\n",
    "result = structured_model.invoke(\"\"\"I recently upgraded to the Samsung Galaxy S24 Ultra, and I must say, it’s an absolute powerhouse! The Snapdragon 8 Gen 3 processor makes everything lightning fast—whether I’m gaming, multitasking, or editing photos. The 5000mAh battery easily lasts a full day even with heavy use, and the 45W fast charging is a lifesaver.\n",
    "\n",
    "The S-Pen integration is a great touch for note-taking and quick sketches, though I don't use it often. What really blew me away is the 200MP camera—the night mode is stunning, capturing crisp, vibrant images even in low light. Zooming up to 100x actually works well for distant objects, but anything beyond 30x loses quality.\n",
    "\n",
    "However, the weight and size make it a bit uncomfortable for one-handed use. Also, Samsung’s One UI still comes with bloatware—why do I need five different Samsung apps for things Google already provides? The $1,300 price tag is also a hard pill to swallow.\n",
    "\n",
    "Pros:\n",
    "Insanely powerful processor (great for gaming and productivity)\n",
    "Stunning 200MP camera with incredible zoom capabilities\n",
    "Long battery life with fast charging\n",
    "S-Pen support is unique and useful\n",
    "                                 \n",
    "Review by LOTTI HAREESH\n",
    "\"\"\")\n",
    "\n",
    "print(result)"
   ]
  },
  {
   "cell_type": "code",
   "execution_count": 12,
   "id": "bdeb90b5",
   "metadata": {},
   "outputs": [
    {
     "name": "stdout",
     "output_type": "stream",
     "text": [
      "dict_keys(['key_themes', 'sentiment', 'pros', 'cons', 'summary', 'name'])\n"
     ]
    }
   ],
   "source": [
    "print(result.keys())"
   ]
  },
  {
   "cell_type": "code",
   "execution_count": 15,
   "id": "d240a8e0",
   "metadata": {},
   "outputs": [
    {
     "data": {
      "text/plain": [
       "dict_keys(['title', 'type', 'properties', 'required', 'parameters'])"
      ]
     },
     "execution_count": 15,
     "metadata": {},
     "output_type": "execute_result"
    }
   ],
   "source": [
    "json_schema.keys()"
   ]
  },
  {
   "cell_type": "code",
   "execution_count": null,
   "id": "63e88528",
   "metadata": {},
   "outputs": [
    {
     "ename": "ValueError",
     "evalue": "Unsupported function\n\nkey_themes=['performance', 'battery life', 'camera quality', 'S-Pen integration', 'device size and weight', 'bloatware', 'price'] summary='The Samsung Galaxy S24 Ultra delivers exceptional performance, battery life, and camera capabilities, though it is bulky, comes with bloatware, and has a high price.' sentiment='pos' pros=['Insanely powerful processor', 'Stunning 200MP camera with zoom', 'Long battery life with fast charging', 'Unique S-Pen support'] cons=['Heavy and uncomfortable for one-handed use', 'Pre-installed bloatware', 'Expensive price tag'] name='Hareesh'\n\nFunctions must be passed in as Dict, pydantic.BaseModel, or Callable. If they're a dict they must either be in OpenAI function format or valid JSON schema with top-level 'title' and 'description' keys.",
     "output_type": "error",
     "traceback": [
      "\u001b[0;31m---------------------------------------------------------------------------\u001b[0m",
      "\u001b[0;31mValueError\u001b[0m                                Traceback (most recent call last)",
      "Cell \u001b[0;32mIn[17], line 26\u001b[0m\n\u001b[1;32m     22\u001b[0m     cons: Optional[\u001b[38;5;28mlist\u001b[39m[\u001b[38;5;28mstr\u001b[39m]] \u001b[38;5;241m=\u001b[39m Field(default\u001b[38;5;241m=\u001b[39m\u001b[38;5;28;01mNone\u001b[39;00m, description\u001b[38;5;241m=\u001b[39m\u001b[38;5;124m\"\u001b[39m\u001b[38;5;124mWrite down all the cons inside a list\u001b[39m\u001b[38;5;124m\"\u001b[39m)\n\u001b[1;32m     23\u001b[0m     name: Optional[\u001b[38;5;28mstr\u001b[39m] \u001b[38;5;241m=\u001b[39m Field(default\u001b[38;5;241m=\u001b[39m\u001b[38;5;28;01mNone\u001b[39;00m, description\u001b[38;5;241m=\u001b[39m\u001b[38;5;124m\"\u001b[39m\u001b[38;5;124mWrite the name of the reviewer\u001b[39m\u001b[38;5;124m\"\u001b[39m)\n\u001b[0;32m---> 26\u001b[0m structured_model \u001b[38;5;241m=\u001b[39m \u001b[43mmodel\u001b[49m\u001b[38;5;241;43m.\u001b[39;49m\u001b[43mwith_structured_output\u001b[49m\u001b[43m(\u001b[49m\u001b[43mReview\u001b[49m\u001b[43m(\u001b[49m\n\u001b[1;32m     27\u001b[0m \u001b[43m    \u001b[49m\u001b[43mkey_themes\u001b[49m\u001b[38;5;241;43m=\u001b[39;49m\u001b[43m[\u001b[49m\n\u001b[1;32m     28\u001b[0m \u001b[43m        \u001b[49m\u001b[38;5;124;43m\"\u001b[39;49m\u001b[38;5;124;43mperformance\u001b[39;49m\u001b[38;5;124;43m\"\u001b[39;49m\u001b[43m,\u001b[49m\n\u001b[1;32m     29\u001b[0m \u001b[43m        \u001b[49m\u001b[38;5;124;43m\"\u001b[39;49m\u001b[38;5;124;43mbattery life\u001b[39;49m\u001b[38;5;124;43m\"\u001b[39;49m\u001b[43m,\u001b[49m\n\u001b[1;32m     30\u001b[0m \u001b[43m        \u001b[49m\u001b[38;5;124;43m\"\u001b[39;49m\u001b[38;5;124;43mcamera quality\u001b[39;49m\u001b[38;5;124;43m\"\u001b[39;49m\u001b[43m,\u001b[49m\n\u001b[1;32m     31\u001b[0m \u001b[43m        \u001b[49m\u001b[38;5;124;43m\"\u001b[39;49m\u001b[38;5;124;43mS-Pen integration\u001b[39;49m\u001b[38;5;124;43m\"\u001b[39;49m\u001b[43m,\u001b[49m\n\u001b[1;32m     32\u001b[0m \u001b[43m        \u001b[49m\u001b[38;5;124;43m\"\u001b[39;49m\u001b[38;5;124;43mdevice size and weight\u001b[39;49m\u001b[38;5;124;43m\"\u001b[39;49m\u001b[43m,\u001b[49m\n\u001b[1;32m     33\u001b[0m \u001b[43m        \u001b[49m\u001b[38;5;124;43m\"\u001b[39;49m\u001b[38;5;124;43mbloatware\u001b[39;49m\u001b[38;5;124;43m\"\u001b[39;49m\u001b[43m,\u001b[49m\n\u001b[1;32m     34\u001b[0m \u001b[43m        \u001b[49m\u001b[38;5;124;43m\"\u001b[39;49m\u001b[38;5;124;43mprice\u001b[39;49m\u001b[38;5;124;43m\"\u001b[39;49m\n\u001b[1;32m     35\u001b[0m \u001b[43m    \u001b[49m\u001b[43m]\u001b[49m\u001b[43m,\u001b[49m\n\u001b[1;32m     36\u001b[0m \u001b[43m    \u001b[49m\u001b[43msummary\u001b[49m\u001b[38;5;241;43m=\u001b[39;49m\u001b[38;5;124;43m\"\u001b[39;49m\u001b[38;5;124;43mThe Samsung Galaxy S24 Ultra delivers exceptional performance, battery life, and camera capabilities, though it is bulky, comes with bloatware, and has a high price.\u001b[39;49m\u001b[38;5;124;43m\"\u001b[39;49m\u001b[43m,\u001b[49m\n\u001b[1;32m     37\u001b[0m \u001b[43m    \u001b[49m\u001b[43msentiment\u001b[49m\u001b[38;5;241;43m=\u001b[39;49m\u001b[38;5;124;43m\"\u001b[39;49m\u001b[38;5;124;43mpos\u001b[39;49m\u001b[38;5;124;43m\"\u001b[39;49m\u001b[43m,\u001b[49m\n\u001b[1;32m     38\u001b[0m \u001b[43m    \u001b[49m\u001b[43mpros\u001b[49m\u001b[38;5;241;43m=\u001b[39;49m\u001b[43m[\u001b[49m\n\u001b[1;32m     39\u001b[0m \u001b[43m        \u001b[49m\u001b[38;5;124;43m\"\u001b[39;49m\u001b[38;5;124;43mInsanely powerful processor\u001b[39;49m\u001b[38;5;124;43m\"\u001b[39;49m\u001b[43m,\u001b[49m\n\u001b[1;32m     40\u001b[0m \u001b[43m        \u001b[49m\u001b[38;5;124;43m\"\u001b[39;49m\u001b[38;5;124;43mStunning 200MP camera with zoom\u001b[39;49m\u001b[38;5;124;43m\"\u001b[39;49m\u001b[43m,\u001b[49m\n\u001b[1;32m     41\u001b[0m \u001b[43m        \u001b[49m\u001b[38;5;124;43m\"\u001b[39;49m\u001b[38;5;124;43mLong battery life with fast charging\u001b[39;49m\u001b[38;5;124;43m\"\u001b[39;49m\u001b[43m,\u001b[49m\n\u001b[1;32m     42\u001b[0m \u001b[43m        \u001b[49m\u001b[38;5;124;43m\"\u001b[39;49m\u001b[38;5;124;43mUnique S-Pen support\u001b[39;49m\u001b[38;5;124;43m\"\u001b[39;49m\n\u001b[1;32m     43\u001b[0m \u001b[43m    \u001b[49m\u001b[43m]\u001b[49m\u001b[43m,\u001b[49m\n\u001b[1;32m     44\u001b[0m \u001b[43m    \u001b[49m\u001b[43mcons\u001b[49m\u001b[38;5;241;43m=\u001b[39;49m\u001b[43m[\u001b[49m\n\u001b[1;32m     45\u001b[0m \u001b[43m        \u001b[49m\u001b[38;5;124;43m\"\u001b[39;49m\u001b[38;5;124;43mHeavy and uncomfortable for one-handed use\u001b[39;49m\u001b[38;5;124;43m\"\u001b[39;49m\u001b[43m,\u001b[49m\n\u001b[1;32m     46\u001b[0m \u001b[43m        \u001b[49m\u001b[38;5;124;43m\"\u001b[39;49m\u001b[38;5;124;43mPre-installed bloatware\u001b[39;49m\u001b[38;5;124;43m\"\u001b[39;49m\u001b[43m,\u001b[49m\n\u001b[1;32m     47\u001b[0m \u001b[43m        \u001b[49m\u001b[38;5;124;43m\"\u001b[39;49m\u001b[38;5;124;43mExpensive price tag\u001b[39;49m\u001b[38;5;124;43m\"\u001b[39;49m\n\u001b[1;32m     48\u001b[0m \u001b[43m    \u001b[49m\u001b[43m]\u001b[49m\u001b[43m,\u001b[49m\n\u001b[1;32m     49\u001b[0m \u001b[43m    \u001b[49m\u001b[43mname\u001b[49m\u001b[38;5;241;43m=\u001b[39;49m\u001b[38;5;124;43m\"\u001b[39;49m\u001b[38;5;124;43mHareesh\u001b[39;49m\u001b[38;5;124;43m\"\u001b[39;49m\n\u001b[1;32m     50\u001b[0m \u001b[43m)\u001b[49m\u001b[43m)\u001b[49m\n\u001b[1;32m     52\u001b[0m result \u001b[38;5;241m=\u001b[39m structured_model\u001b[38;5;241m.\u001b[39minvoke(\u001b[38;5;124m\"\"\"\u001b[39m\u001b[38;5;124mI recently upgraded to the Samsung Galaxy S24 Ultra, and I must say, it’s an absolute powerhouse! The Snapdragon 8 Gen 3 processor makes everything lightning fast—whether I’m gaming, multitasking, or editing photos. The 5000mAh battery easily lasts a full day even with heavy use, and the 45W fast charging is a lifesaver.\u001b[39m\n\u001b[1;32m     53\u001b[0m \n\u001b[1;32m     54\u001b[0m \u001b[38;5;124mThe S-Pen integration is a great touch for note-taking and quick sketches, though I don\u001b[39m\u001b[38;5;124m'\u001b[39m\u001b[38;5;124mt use it often. What really blew me away is the 200MP camera—the night mode is stunning, capturing crisp, vibrant images even in low light. Zooming up to 100x actually works well for distant objects, but anything beyond 30x loses quality.\u001b[39m\n\u001b[0;32m   (...)\u001b[0m\n\u001b[1;32m     64\u001b[0m \u001b[38;5;124mReview by Hareesh\u001b[39m\n\u001b[1;32m     65\u001b[0m \u001b[38;5;124m\"\"\"\u001b[39m)\n\u001b[1;32m     67\u001b[0m \u001b[38;5;28mprint\u001b[39m(result)\n",
      "File \u001b[0;32m/media/rgukt/data/LangChain/venv/lib/python3.10/site-packages/langchain_huggingface/chat_models/huggingface.py:929\u001b[0m, in \u001b[0;36mChatHuggingFace.with_structured_output\u001b[0;34m(self, schema, method, include_raw, **kwargs)\u001b[0m\n\u001b[1;32m    924\u001b[0m     msg \u001b[38;5;241m=\u001b[39m (\n\u001b[1;32m    925\u001b[0m         \u001b[38;5;124m\"\u001b[39m\u001b[38;5;124mschema must be specified when method is \u001b[39m\u001b[38;5;124m'\u001b[39m\u001b[38;5;124mfunction_calling\u001b[39m\u001b[38;5;124m'\u001b[39m\u001b[38;5;124m. \u001b[39m\u001b[38;5;124m\"\u001b[39m\n\u001b[1;32m    926\u001b[0m         \u001b[38;5;124m\"\u001b[39m\u001b[38;5;124mReceived None.\u001b[39m\u001b[38;5;124m\"\u001b[39m\n\u001b[1;32m    927\u001b[0m     )\n\u001b[1;32m    928\u001b[0m     \u001b[38;5;28;01mraise\u001b[39;00m \u001b[38;5;167;01mValueError\u001b[39;00m(msg)\n\u001b[0;32m--> 929\u001b[0m formatted_tool \u001b[38;5;241m=\u001b[39m \u001b[43mconvert_to_openai_tool\u001b[49m\u001b[43m(\u001b[49m\u001b[43mschema\u001b[49m\u001b[43m)\u001b[49m\n\u001b[1;32m    930\u001b[0m tool_name \u001b[38;5;241m=\u001b[39m formatted_tool[\u001b[38;5;124m\"\u001b[39m\u001b[38;5;124mfunction\u001b[39m\u001b[38;5;124m\"\u001b[39m][\u001b[38;5;124m\"\u001b[39m\u001b[38;5;124mname\u001b[39m\u001b[38;5;124m\"\u001b[39m]\n\u001b[1;32m    931\u001b[0m llm \u001b[38;5;241m=\u001b[39m \u001b[38;5;28mself\u001b[39m\u001b[38;5;241m.\u001b[39mbind_tools(\n\u001b[1;32m    932\u001b[0m     [schema],\n\u001b[1;32m    933\u001b[0m     tool_choice\u001b[38;5;241m=\u001b[39mtool_name,\n\u001b[0;32m   (...)\u001b[0m\n\u001b[1;32m    937\u001b[0m     },\n\u001b[1;32m    938\u001b[0m )\n",
      "File \u001b[0;32m/media/rgukt/data/LangChain/venv/lib/python3.10/site-packages/langchain_core/utils/function_calling.py:598\u001b[0m, in \u001b[0;36mconvert_to_openai_tool\u001b[0;34m(tool, strict)\u001b[0m\n\u001b[1;32m    596\u001b[0m         oai_tool[\u001b[38;5;124m\"\u001b[39m\u001b[38;5;124mformat\u001b[39m\u001b[38;5;124m\"\u001b[39m] \u001b[38;5;241m=\u001b[39m tool\u001b[38;5;241m.\u001b[39mmetadata[\u001b[38;5;124m\"\u001b[39m\u001b[38;5;124mformat\u001b[39m\u001b[38;5;124m\"\u001b[39m]\n\u001b[1;32m    597\u001b[0m     \u001b[38;5;28;01mreturn\u001b[39;00m oai_tool\n\u001b[0;32m--> 598\u001b[0m oai_function \u001b[38;5;241m=\u001b[39m \u001b[43mconvert_to_openai_function\u001b[49m\u001b[43m(\u001b[49m\u001b[43mtool\u001b[49m\u001b[43m,\u001b[49m\u001b[43m \u001b[49m\u001b[43mstrict\u001b[49m\u001b[38;5;241;43m=\u001b[39;49m\u001b[43mstrict\u001b[49m\u001b[43m)\u001b[49m\n\u001b[1;32m    599\u001b[0m \u001b[38;5;28;01mreturn\u001b[39;00m {\u001b[38;5;124m\"\u001b[39m\u001b[38;5;124mtype\u001b[39m\u001b[38;5;124m\"\u001b[39m: \u001b[38;5;124m\"\u001b[39m\u001b[38;5;124mfunction\u001b[39m\u001b[38;5;124m\"\u001b[39m, \u001b[38;5;124m\"\u001b[39m\u001b[38;5;124mfunction\u001b[39m\u001b[38;5;124m\"\u001b[39m: oai_function}\n",
      "File \u001b[0;32m/media/rgukt/data/LangChain/venv/lib/python3.10/site-packages/langchain_core/utils/function_calling.py:487\u001b[0m, in \u001b[0;36mconvert_to_openai_function\u001b[0;34m(function, strict)\u001b[0m\n\u001b[1;32m    480\u001b[0m \u001b[38;5;28;01melse\u001b[39;00m:\n\u001b[1;32m    481\u001b[0m     msg \u001b[38;5;241m=\u001b[39m (\n\u001b[1;32m    482\u001b[0m         \u001b[38;5;124mf\u001b[39m\u001b[38;5;124m\"\u001b[39m\u001b[38;5;124mUnsupported function\u001b[39m\u001b[38;5;130;01m\\n\u001b[39;00m\u001b[38;5;130;01m\\n\u001b[39;00m\u001b[38;5;132;01m{\u001b[39;00mfunction\u001b[38;5;132;01m}\u001b[39;00m\u001b[38;5;130;01m\\n\u001b[39;00m\u001b[38;5;130;01m\\n\u001b[39;00m\u001b[38;5;124mFunctions must be passed in\u001b[39m\u001b[38;5;124m\"\u001b[39m\n\u001b[1;32m    483\u001b[0m         \u001b[38;5;124m\"\u001b[39m\u001b[38;5;124m as Dict, pydantic.BaseModel, or Callable. If they\u001b[39m\u001b[38;5;124m'\u001b[39m\u001b[38;5;124mre a dict they must\u001b[39m\u001b[38;5;124m\"\u001b[39m\n\u001b[1;32m    484\u001b[0m         \u001b[38;5;124m\"\u001b[39m\u001b[38;5;124m either be in OpenAI function format or valid JSON schema with top-level\u001b[39m\u001b[38;5;124m\"\u001b[39m\n\u001b[1;32m    485\u001b[0m         \u001b[38;5;124m\"\u001b[39m\u001b[38;5;124m \u001b[39m\u001b[38;5;124m'\u001b[39m\u001b[38;5;124mtitle\u001b[39m\u001b[38;5;124m'\u001b[39m\u001b[38;5;124m and \u001b[39m\u001b[38;5;124m'\u001b[39m\u001b[38;5;124mdescription\u001b[39m\u001b[38;5;124m'\u001b[39m\u001b[38;5;124m keys.\u001b[39m\u001b[38;5;124m\"\u001b[39m\n\u001b[1;32m    486\u001b[0m     )\n\u001b[0;32m--> 487\u001b[0m     \u001b[38;5;28;01mraise\u001b[39;00m \u001b[38;5;167;01mValueError\u001b[39;00m(msg)\n\u001b[1;32m    489\u001b[0m \u001b[38;5;28;01mif\u001b[39;00m strict \u001b[38;5;129;01mis\u001b[39;00m \u001b[38;5;129;01mnot\u001b[39;00m \u001b[38;5;28;01mNone\u001b[39;00m:\n\u001b[1;32m    490\u001b[0m     \u001b[38;5;28;01mif\u001b[39;00m \u001b[38;5;124m\"\u001b[39m\u001b[38;5;124mstrict\u001b[39m\u001b[38;5;124m\"\u001b[39m \u001b[38;5;129;01min\u001b[39;00m oai_function \u001b[38;5;129;01mand\u001b[39;00m oai_function[\u001b[38;5;124m\"\u001b[39m\u001b[38;5;124mstrict\u001b[39m\u001b[38;5;124m\"\u001b[39m] \u001b[38;5;241m!=\u001b[39m strict:\n",
      "\u001b[0;31mValueError\u001b[0m: Unsupported function\n\nkey_themes=['performance', 'battery life', 'camera quality', 'S-Pen integration', 'device size and weight', 'bloatware', 'price'] summary='The Samsung Galaxy S24 Ultra delivers exceptional performance, battery life, and camera capabilities, though it is bulky, comes with bloatware, and has a high price.' sentiment='pos' pros=['Insanely powerful processor', 'Stunning 200MP camera with zoom', 'Long battery life with fast charging', 'Unique S-Pen support'] cons=['Heavy and uncomfortable for one-handed use', 'Pre-installed bloatware', 'Expensive price tag'] name='Hareesh'\n\nFunctions must be passed in as Dict, pydantic.BaseModel, or Callable. If they're a dict they must either be in OpenAI function format or valid JSON schema with top-level 'title' and 'description' keys."
     ]
    }
   ],
   "source": []
  },
  {
   "cell_type": "markdown",
   "id": "2670617b",
   "metadata": {},
   "source": [
    "### Some models does not provide the with_structured_output\n",
    "\n",
    "for that we use the "
   ]
  },
  {
   "cell_type": "code",
   "execution_count": 18,
   "id": "33fc588d",
   "metadata": {},
   "outputs": [
    {
     "ename": "ValueError",
     "evalue": "Unsupported function\n\nkey_themes=['performance', 'battery life', 'camera quality', 'S-Pen integration', 'device size and weight', 'bloatware', 'price'] summary='The Samsung Galaxy S24 Ultra delivers exceptional performance, battery life, and camera capabilities, though it is bulky, comes with bloatware, and has a high price.' sentiment='pos' pros=['Insanely powerful processor', 'Stunning 200MP camera with zoom', 'Long battery life with fast charging', 'Unique S-Pen support'] cons=['Heavy and uncomfortable for one-handed use', 'Pre-installed bloatware', 'Expensive price tag'] name='Hareesh'\n\nFunctions must be passed in as Dict, pydantic.BaseModel, or Callable. If they're a dict they must either be in OpenAI function format or valid JSON schema with top-level 'title' and 'description' keys.",
     "output_type": "error",
     "traceback": [
      "\u001b[0;31m---------------------------------------------------------------------------\u001b[0m",
      "\u001b[0;31mValueError\u001b[0m                                Traceback (most recent call last)",
      "Cell \u001b[0;32mIn[18], line 26\u001b[0m\n\u001b[1;32m     22\u001b[0m     cons: Optional[\u001b[38;5;28mlist\u001b[39m[\u001b[38;5;28mstr\u001b[39m]] \u001b[38;5;241m=\u001b[39m Field(default\u001b[38;5;241m=\u001b[39m\u001b[38;5;28;01mNone\u001b[39;00m, description\u001b[38;5;241m=\u001b[39m\u001b[38;5;124m\"\u001b[39m\u001b[38;5;124mWrite down all the cons inside a list\u001b[39m\u001b[38;5;124m\"\u001b[39m)\n\u001b[1;32m     23\u001b[0m     name: Optional[\u001b[38;5;28mstr\u001b[39m] \u001b[38;5;241m=\u001b[39m Field(default\u001b[38;5;241m=\u001b[39m\u001b[38;5;28;01mNone\u001b[39;00m, description\u001b[38;5;241m=\u001b[39m\u001b[38;5;124m\"\u001b[39m\u001b[38;5;124mWrite the name of the reviewer\u001b[39m\u001b[38;5;124m\"\u001b[39m)\n\u001b[0;32m---> 26\u001b[0m structured_model \u001b[38;5;241m=\u001b[39m \u001b[43mmodel\u001b[49m\u001b[38;5;241;43m.\u001b[39;49m\u001b[43mwith_structured_output\u001b[49m\u001b[43m(\u001b[49m\u001b[43mReview\u001b[49m\u001b[43m(\u001b[49m\n\u001b[1;32m     27\u001b[0m \u001b[43m    \u001b[49m\u001b[43mkey_themes\u001b[49m\u001b[38;5;241;43m=\u001b[39;49m\u001b[43m[\u001b[49m\n\u001b[1;32m     28\u001b[0m \u001b[43m        \u001b[49m\u001b[38;5;124;43m\"\u001b[39;49m\u001b[38;5;124;43mperformance\u001b[39;49m\u001b[38;5;124;43m\"\u001b[39;49m\u001b[43m,\u001b[49m\n\u001b[1;32m     29\u001b[0m \u001b[43m        \u001b[49m\u001b[38;5;124;43m\"\u001b[39;49m\u001b[38;5;124;43mbattery life\u001b[39;49m\u001b[38;5;124;43m\"\u001b[39;49m\u001b[43m,\u001b[49m\n\u001b[1;32m     30\u001b[0m \u001b[43m        \u001b[49m\u001b[38;5;124;43m\"\u001b[39;49m\u001b[38;5;124;43mcamera quality\u001b[39;49m\u001b[38;5;124;43m\"\u001b[39;49m\u001b[43m,\u001b[49m\n\u001b[1;32m     31\u001b[0m \u001b[43m        \u001b[49m\u001b[38;5;124;43m\"\u001b[39;49m\u001b[38;5;124;43mS-Pen integration\u001b[39;49m\u001b[38;5;124;43m\"\u001b[39;49m\u001b[43m,\u001b[49m\n\u001b[1;32m     32\u001b[0m \u001b[43m        \u001b[49m\u001b[38;5;124;43m\"\u001b[39;49m\u001b[38;5;124;43mdevice size and weight\u001b[39;49m\u001b[38;5;124;43m\"\u001b[39;49m\u001b[43m,\u001b[49m\n\u001b[1;32m     33\u001b[0m \u001b[43m        \u001b[49m\u001b[38;5;124;43m\"\u001b[39;49m\u001b[38;5;124;43mbloatware\u001b[39;49m\u001b[38;5;124;43m\"\u001b[39;49m\u001b[43m,\u001b[49m\n\u001b[1;32m     34\u001b[0m \u001b[43m        \u001b[49m\u001b[38;5;124;43m\"\u001b[39;49m\u001b[38;5;124;43mprice\u001b[39;49m\u001b[38;5;124;43m\"\u001b[39;49m\n\u001b[1;32m     35\u001b[0m \u001b[43m    \u001b[49m\u001b[43m]\u001b[49m\u001b[43m,\u001b[49m\n\u001b[1;32m     36\u001b[0m \u001b[43m    \u001b[49m\u001b[43msummary\u001b[49m\u001b[38;5;241;43m=\u001b[39;49m\u001b[38;5;124;43m\"\u001b[39;49m\u001b[38;5;124;43mThe Samsung Galaxy S24 Ultra delivers exceptional performance, battery life, and camera capabilities, though it is bulky, comes with bloatware, and has a high price.\u001b[39;49m\u001b[38;5;124;43m\"\u001b[39;49m\u001b[43m,\u001b[49m\n\u001b[1;32m     37\u001b[0m \u001b[43m    \u001b[49m\u001b[43msentiment\u001b[49m\u001b[38;5;241;43m=\u001b[39;49m\u001b[38;5;124;43m\"\u001b[39;49m\u001b[38;5;124;43mpos\u001b[39;49m\u001b[38;5;124;43m\"\u001b[39;49m\u001b[43m,\u001b[49m\n\u001b[1;32m     38\u001b[0m \u001b[43m    \u001b[49m\u001b[43mpros\u001b[49m\u001b[38;5;241;43m=\u001b[39;49m\u001b[43m[\u001b[49m\n\u001b[1;32m     39\u001b[0m \u001b[43m        \u001b[49m\u001b[38;5;124;43m\"\u001b[39;49m\u001b[38;5;124;43mInsanely powerful processor\u001b[39;49m\u001b[38;5;124;43m\"\u001b[39;49m\u001b[43m,\u001b[49m\n\u001b[1;32m     40\u001b[0m \u001b[43m        \u001b[49m\u001b[38;5;124;43m\"\u001b[39;49m\u001b[38;5;124;43mStunning 200MP camera with zoom\u001b[39;49m\u001b[38;5;124;43m\"\u001b[39;49m\u001b[43m,\u001b[49m\n\u001b[1;32m     41\u001b[0m \u001b[43m        \u001b[49m\u001b[38;5;124;43m\"\u001b[39;49m\u001b[38;5;124;43mLong battery life with fast charging\u001b[39;49m\u001b[38;5;124;43m\"\u001b[39;49m\u001b[43m,\u001b[49m\n\u001b[1;32m     42\u001b[0m \u001b[43m        \u001b[49m\u001b[38;5;124;43m\"\u001b[39;49m\u001b[38;5;124;43mUnique S-Pen support\u001b[39;49m\u001b[38;5;124;43m\"\u001b[39;49m\n\u001b[1;32m     43\u001b[0m \u001b[43m    \u001b[49m\u001b[43m]\u001b[49m\u001b[43m,\u001b[49m\n\u001b[1;32m     44\u001b[0m \u001b[43m    \u001b[49m\u001b[43mcons\u001b[49m\u001b[38;5;241;43m=\u001b[39;49m\u001b[43m[\u001b[49m\n\u001b[1;32m     45\u001b[0m \u001b[43m        \u001b[49m\u001b[38;5;124;43m\"\u001b[39;49m\u001b[38;5;124;43mHeavy and uncomfortable for one-handed use\u001b[39;49m\u001b[38;5;124;43m\"\u001b[39;49m\u001b[43m,\u001b[49m\n\u001b[1;32m     46\u001b[0m \u001b[43m        \u001b[49m\u001b[38;5;124;43m\"\u001b[39;49m\u001b[38;5;124;43mPre-installed bloatware\u001b[39;49m\u001b[38;5;124;43m\"\u001b[39;49m\u001b[43m,\u001b[49m\n\u001b[1;32m     47\u001b[0m \u001b[43m        \u001b[49m\u001b[38;5;124;43m\"\u001b[39;49m\u001b[38;5;124;43mExpensive price tag\u001b[39;49m\u001b[38;5;124;43m\"\u001b[39;49m\n\u001b[1;32m     48\u001b[0m \u001b[43m    \u001b[49m\u001b[43m]\u001b[49m\u001b[43m,\u001b[49m\n\u001b[1;32m     49\u001b[0m \u001b[43m    \u001b[49m\u001b[43mname\u001b[49m\u001b[38;5;241;43m=\u001b[39;49m\u001b[38;5;124;43m\"\u001b[39;49m\u001b[38;5;124;43mHareesh\u001b[39;49m\u001b[38;5;124;43m\"\u001b[39;49m\n\u001b[1;32m     50\u001b[0m \u001b[43m)\u001b[49m\u001b[43m)\u001b[49m\n\u001b[1;32m     52\u001b[0m result \u001b[38;5;241m=\u001b[39m structured_model\u001b[38;5;241m.\u001b[39minvoke(\u001b[38;5;124m\"\"\"\u001b[39m\u001b[38;5;124mI recently upgraded to the Samsung Galaxy S24 Ultra, and I must say, it’s an absolute powerhouse! The Snapdragon 8 Gen 3 processor makes everything lightning fast—whether I’m gaming, multitasking, or editing photos. The 5000mAh battery easily lasts a full day even with heavy use, and the 45W fast charging is a lifesaver.\u001b[39m\n\u001b[1;32m     53\u001b[0m \n\u001b[1;32m     54\u001b[0m \u001b[38;5;124mThe S-Pen integration is a great touch for note-taking and quick sketches, though I don\u001b[39m\u001b[38;5;124m'\u001b[39m\u001b[38;5;124mt use it often. What really blew me away is the 200MP camera—the night mode is stunning, capturing crisp, vibrant images even in low light. Zooming up to 100x actually works well for distant objects, but anything beyond 30x loses quality.\u001b[39m\n\u001b[0;32m   (...)\u001b[0m\n\u001b[1;32m     64\u001b[0m \u001b[38;5;124mReview by Hareesh\u001b[39m\n\u001b[1;32m     65\u001b[0m \u001b[38;5;124m\"\"\"\u001b[39m)\n\u001b[1;32m     67\u001b[0m \u001b[38;5;28mprint\u001b[39m(result)\n",
      "File \u001b[0;32m/media/rgukt/data/LangChain/venv/lib/python3.10/site-packages/langchain_huggingface/chat_models/huggingface.py:929\u001b[0m, in \u001b[0;36mChatHuggingFace.with_structured_output\u001b[0;34m(self, schema, method, include_raw, **kwargs)\u001b[0m\n\u001b[1;32m    924\u001b[0m     msg \u001b[38;5;241m=\u001b[39m (\n\u001b[1;32m    925\u001b[0m         \u001b[38;5;124m\"\u001b[39m\u001b[38;5;124mschema must be specified when method is \u001b[39m\u001b[38;5;124m'\u001b[39m\u001b[38;5;124mfunction_calling\u001b[39m\u001b[38;5;124m'\u001b[39m\u001b[38;5;124m. \u001b[39m\u001b[38;5;124m\"\u001b[39m\n\u001b[1;32m    926\u001b[0m         \u001b[38;5;124m\"\u001b[39m\u001b[38;5;124mReceived None.\u001b[39m\u001b[38;5;124m\"\u001b[39m\n\u001b[1;32m    927\u001b[0m     )\n\u001b[1;32m    928\u001b[0m     \u001b[38;5;28;01mraise\u001b[39;00m \u001b[38;5;167;01mValueError\u001b[39;00m(msg)\n\u001b[0;32m--> 929\u001b[0m formatted_tool \u001b[38;5;241m=\u001b[39m \u001b[43mconvert_to_openai_tool\u001b[49m\u001b[43m(\u001b[49m\u001b[43mschema\u001b[49m\u001b[43m)\u001b[49m\n\u001b[1;32m    930\u001b[0m tool_name \u001b[38;5;241m=\u001b[39m formatted_tool[\u001b[38;5;124m\"\u001b[39m\u001b[38;5;124mfunction\u001b[39m\u001b[38;5;124m\"\u001b[39m][\u001b[38;5;124m\"\u001b[39m\u001b[38;5;124mname\u001b[39m\u001b[38;5;124m\"\u001b[39m]\n\u001b[1;32m    931\u001b[0m llm \u001b[38;5;241m=\u001b[39m \u001b[38;5;28mself\u001b[39m\u001b[38;5;241m.\u001b[39mbind_tools(\n\u001b[1;32m    932\u001b[0m     [schema],\n\u001b[1;32m    933\u001b[0m     tool_choice\u001b[38;5;241m=\u001b[39mtool_name,\n\u001b[0;32m   (...)\u001b[0m\n\u001b[1;32m    937\u001b[0m     },\n\u001b[1;32m    938\u001b[0m )\n",
      "File \u001b[0;32m/media/rgukt/data/LangChain/venv/lib/python3.10/site-packages/langchain_core/utils/function_calling.py:598\u001b[0m, in \u001b[0;36mconvert_to_openai_tool\u001b[0;34m(tool, strict)\u001b[0m\n\u001b[1;32m    596\u001b[0m         oai_tool[\u001b[38;5;124m\"\u001b[39m\u001b[38;5;124mformat\u001b[39m\u001b[38;5;124m\"\u001b[39m] \u001b[38;5;241m=\u001b[39m tool\u001b[38;5;241m.\u001b[39mmetadata[\u001b[38;5;124m\"\u001b[39m\u001b[38;5;124mformat\u001b[39m\u001b[38;5;124m\"\u001b[39m]\n\u001b[1;32m    597\u001b[0m     \u001b[38;5;28;01mreturn\u001b[39;00m oai_tool\n\u001b[0;32m--> 598\u001b[0m oai_function \u001b[38;5;241m=\u001b[39m \u001b[43mconvert_to_openai_function\u001b[49m\u001b[43m(\u001b[49m\u001b[43mtool\u001b[49m\u001b[43m,\u001b[49m\u001b[43m \u001b[49m\u001b[43mstrict\u001b[49m\u001b[38;5;241;43m=\u001b[39;49m\u001b[43mstrict\u001b[49m\u001b[43m)\u001b[49m\n\u001b[1;32m    599\u001b[0m \u001b[38;5;28;01mreturn\u001b[39;00m {\u001b[38;5;124m\"\u001b[39m\u001b[38;5;124mtype\u001b[39m\u001b[38;5;124m\"\u001b[39m: \u001b[38;5;124m\"\u001b[39m\u001b[38;5;124mfunction\u001b[39m\u001b[38;5;124m\"\u001b[39m, \u001b[38;5;124m\"\u001b[39m\u001b[38;5;124mfunction\u001b[39m\u001b[38;5;124m\"\u001b[39m: oai_function}\n",
      "File \u001b[0;32m/media/rgukt/data/LangChain/venv/lib/python3.10/site-packages/langchain_core/utils/function_calling.py:487\u001b[0m, in \u001b[0;36mconvert_to_openai_function\u001b[0;34m(function, strict)\u001b[0m\n\u001b[1;32m    480\u001b[0m \u001b[38;5;28;01melse\u001b[39;00m:\n\u001b[1;32m    481\u001b[0m     msg \u001b[38;5;241m=\u001b[39m (\n\u001b[1;32m    482\u001b[0m         \u001b[38;5;124mf\u001b[39m\u001b[38;5;124m\"\u001b[39m\u001b[38;5;124mUnsupported function\u001b[39m\u001b[38;5;130;01m\\n\u001b[39;00m\u001b[38;5;130;01m\\n\u001b[39;00m\u001b[38;5;132;01m{\u001b[39;00mfunction\u001b[38;5;132;01m}\u001b[39;00m\u001b[38;5;130;01m\\n\u001b[39;00m\u001b[38;5;130;01m\\n\u001b[39;00m\u001b[38;5;124mFunctions must be passed in\u001b[39m\u001b[38;5;124m\"\u001b[39m\n\u001b[1;32m    483\u001b[0m         \u001b[38;5;124m\"\u001b[39m\u001b[38;5;124m as Dict, pydantic.BaseModel, or Callable. If they\u001b[39m\u001b[38;5;124m'\u001b[39m\u001b[38;5;124mre a dict they must\u001b[39m\u001b[38;5;124m\"\u001b[39m\n\u001b[1;32m    484\u001b[0m         \u001b[38;5;124m\"\u001b[39m\u001b[38;5;124m either be in OpenAI function format or valid JSON schema with top-level\u001b[39m\u001b[38;5;124m\"\u001b[39m\n\u001b[1;32m    485\u001b[0m         \u001b[38;5;124m\"\u001b[39m\u001b[38;5;124m \u001b[39m\u001b[38;5;124m'\u001b[39m\u001b[38;5;124mtitle\u001b[39m\u001b[38;5;124m'\u001b[39m\u001b[38;5;124m and \u001b[39m\u001b[38;5;124m'\u001b[39m\u001b[38;5;124mdescription\u001b[39m\u001b[38;5;124m'\u001b[39m\u001b[38;5;124m keys.\u001b[39m\u001b[38;5;124m\"\u001b[39m\n\u001b[1;32m    486\u001b[0m     )\n\u001b[0;32m--> 487\u001b[0m     \u001b[38;5;28;01mraise\u001b[39;00m \u001b[38;5;167;01mValueError\u001b[39;00m(msg)\n\u001b[1;32m    489\u001b[0m \u001b[38;5;28;01mif\u001b[39;00m strict \u001b[38;5;129;01mis\u001b[39;00m \u001b[38;5;129;01mnot\u001b[39;00m \u001b[38;5;28;01mNone\u001b[39;00m:\n\u001b[1;32m    490\u001b[0m     \u001b[38;5;28;01mif\u001b[39;00m \u001b[38;5;124m\"\u001b[39m\u001b[38;5;124mstrict\u001b[39m\u001b[38;5;124m\"\u001b[39m \u001b[38;5;129;01min\u001b[39;00m oai_function \u001b[38;5;129;01mand\u001b[39;00m oai_function[\u001b[38;5;124m\"\u001b[39m\u001b[38;5;124mstrict\u001b[39m\u001b[38;5;124m\"\u001b[39m] \u001b[38;5;241m!=\u001b[39m strict:\n",
      "\u001b[0;31mValueError\u001b[0m: Unsupported function\n\nkey_themes=['performance', 'battery life', 'camera quality', 'S-Pen integration', 'device size and weight', 'bloatware', 'price'] summary='The Samsung Galaxy S24 Ultra delivers exceptional performance, battery life, and camera capabilities, though it is bulky, comes with bloatware, and has a high price.' sentiment='pos' pros=['Insanely powerful processor', 'Stunning 200MP camera with zoom', 'Long battery life with fast charging', 'Unique S-Pen support'] cons=['Heavy and uncomfortable for one-handed use', 'Pre-installed bloatware', 'Expensive price tag'] name='Hareesh'\n\nFunctions must be passed in as Dict, pydantic.BaseModel, or Callable. If they're a dict they must either be in OpenAI function format or valid JSON schema with top-level 'title' and 'description' keys."
     ]
    }
   ],
   "source": [
    "from dotenv import load_dotenv\n",
    "from typing import Optional, Literal\n",
    "from pydantic import BaseModel, Field\n",
    "from langchain_huggingface import ChatHuggingFace, HuggingFaceEndpoint\n",
    "\n",
    "load_dotenv()\n",
    "\n",
    "llm = HuggingFaceEndpoint(\n",
    "    repo_id=\"mistralai/Mistral-7B-Instruct-v0.3\",\n",
    "    task=\"text-generation\"\n",
    ")\n",
    "\n",
    "model = ChatHuggingFace(llm=llm)\n",
    "\n",
    "# schema\n",
    "class Review(BaseModel):\n",
    "\n",
    "    key_themes: list[str] = Field(description=\"Write down all the key themes discussed in the review in a list\")\n",
    "    summary: str = Field(description=\"A brief summary of the review\")\n",
    "    sentiment: Literal[\"pos\", \"neg\"] = Field(description=\"Return sentiment of the review either negative, positive or neutral\")\n",
    "    pros: Optional[list[str]] = Field(default=None, description=\"Write down all the pros inside a list\")\n",
    "    cons: Optional[list[str]] = Field(default=None, description=\"Write down all the cons inside a list\")\n",
    "    name: Optional[str] = Field(default=None, description=\"Write the name of the reviewer\")\n",
    "    \n",
    "\n",
    "structured_model = model.with_structured_output(Review(\n",
    "    key_themes=[\n",
    "        \"performance\",\n",
    "        \"battery life\",\n",
    "        \"camera quality\",\n",
    "        \"S-Pen integration\",\n",
    "        \"device size and weight\",\n",
    "        \"bloatware\",\n",
    "        \"price\"\n",
    "    ],\n",
    "    summary=\"The Samsung Galaxy S24 Ultra delivers exceptional performance, battery life, and camera capabilities, though it is bulky, comes with bloatware, and has a high price.\",\n",
    "    sentiment=\"pos\",\n",
    "    pros=[\n",
    "        \"Insanely powerful processor\",\n",
    "        \"Stunning 200MP camera with zoom\",\n",
    "        \"Long battery life with fast charging\",\n",
    "        \"Unique S-Pen support\"\n",
    "    ],\n",
    "    cons=[\n",
    "        \"Heavy and uncomfortable for one-handed use\",\n",
    "        \"Pre-installed bloatware\",\n",
    "        \"Expensive price tag\"\n",
    "    ],\n",
    "    name=\"Hareesh\"\n",
    "))\n",
    "\n",
    "result = structured_model.invoke(\"\"\"I recently upgraded to the Samsung Galaxy S24 Ultra, and I must say, it’s an absolute powerhouse! The Snapdragon 8 Gen 3 processor makes everything lightning fast—whether I’m gaming, multitasking, or editing photos. The 5000mAh battery easily lasts a full day even with heavy use, and the 45W fast charging is a lifesaver.\n",
    "\n",
    "The S-Pen integration is a great touch for note-taking and quick sketches, though I don't use it often. What really blew me away is the 200MP camera—the night mode is stunning, capturing crisp, vibrant images even in low light. Zooming up to 100x actually works well for distant objects, but anything beyond 30x loses quality.\n",
    "\n",
    "However, the weight and size make it a bit uncomfortable for one-handed use. Also, Samsung’s One UI still comes with bloatware—why do I need five different Samsung apps for things Google already provides? The $1,300 price tag is also a hard pill to swallow.\n",
    "\n",
    "Pros:\n",
    "Insanely powerful processor (great for gaming and productivity)\n",
    "Stunning 200MP camera with incredible zoom capabilities\n",
    "Long battery life with fast charging\n",
    "S-Pen support is unique and useful\n",
    "                                 \n",
    "Review by Hareesh\n",
    "\"\"\")\n",
    "\n",
    "print(result)"
   ]
  },
  {
   "cell_type": "markdown",
   "id": "4cb5c8d3",
   "metadata": {},
   "source": []
  }
 ],
 "metadata": {
  "kernelspec": {
   "display_name": "venv",
   "language": "python",
   "name": "python3"
  },
  "language_info": {
   "codemirror_mode": {
    "name": "ipython",
    "version": 3
   },
   "file_extension": ".py",
   "mimetype": "text/x-python",
   "name": "python",
   "nbconvert_exporter": "python",
   "pygments_lexer": "ipython3",
   "version": "3.10.12"
  }
 },
 "nbformat": 4,
 "nbformat_minor": 5
}
