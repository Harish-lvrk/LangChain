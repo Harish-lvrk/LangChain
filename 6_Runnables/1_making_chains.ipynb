{
 "cells": [
  {
   "cell_type": "code",
   "execution_count": null,
   "id": "debaa6be",
   "metadata": {},
   "outputs": [],
   "source": [
    "import random\n",
    "class LLM:\n",
    "    def __init__(self):\n",
    "        print(\"model instanciated\")\n",
    "    def predict(self,prompt):\n",
    "       sentences = [\n",
    "    \"The quick brown fox jumps over the lazy dog.\",\n",
    "    \"Python is a versatile programming language.\",\n",
    "    \"Lists are useful for storing collections of items.\",\n",
    "    \"This is another example sentence.\"\n",
    "    ]\n",
    "       return {'response':random.choice(sentences)}"
   ]
  },
  {
   "cell_type": "code",
   "execution_count": 2,
   "id": "09ebce01",
   "metadata": {},
   "outputs": [
    {
     "name": "stdout",
     "output_type": "stream",
     "text": [
      "model instanciated\n"
     ]
    }
   ],
   "source": [
    "model = LLM()"
   ]
  },
  {
   "cell_type": "code",
   "execution_count": 3,
   "id": "f33dd988",
   "metadata": {},
   "outputs": [
    {
     "data": {
      "text/plain": [
       "{'response': 'Python is a versatile programming language.'}"
      ]
     },
     "execution_count": 3,
     "metadata": {},
     "output_type": "execute_result"
    }
   ],
   "source": [
    "model.predict(\"who is the director of the rgukt\")"
   ]
  },
  {
   "cell_type": "code",
   "execution_count": 4,
   "id": "1d9c0f22",
   "metadata": {},
   "outputs": [],
   "source": [
    "class PromptTemplate:\n",
    "    def __init__(self,template,input_varibles):\n",
    "        self.template = template\n",
    "        self.input_varibles = input_varibles\n",
    "    def format(self,input_dict):\n",
    "        return self.template.format(**input_dict)\n",
    "    \n",
    "        "
   ]
  },
  {
   "cell_type": "code",
   "execution_count": 7,
   "id": "421a953e",
   "metadata": {},
   "outputs": [],
   "source": [
    "template = PromptTemplate(\n",
    "    template= \"tell me about the {topic} in a {mode}\",\n",
    "    input_varibles= ['topic','mode']\n",
    ")"
   ]
  },
  {
   "cell_type": "code",
   "execution_count": 9,
   "id": "33265d61",
   "metadata": {},
   "outputs": [],
   "source": [
    "prompt = template.format({'topic':'rgukt','mode':'cool'})"
   ]
  },
  {
   "cell_type": "code",
   "execution_count": 10,
   "id": "af4c493a",
   "metadata": {},
   "outputs": [
    {
     "data": {
      "text/plain": [
       "'tell me about the rgukt in a cool'"
      ]
     },
     "execution_count": 10,
     "metadata": {},
     "output_type": "execute_result"
    }
   ],
   "source": [
    "prompt"
   ]
  },
  {
   "cell_type": "code",
   "execution_count": 16,
   "id": "b4299b79",
   "metadata": {},
   "outputs": [
    {
     "data": {
      "text/plain": [
       "{'response': 'Lists are useful for storing collections of items.'}"
      ]
     },
     "execution_count": 16,
     "metadata": {},
     "output_type": "execute_result"
    }
   ],
   "source": [
    "model.predict(prompt= prompt)"
   ]
  },
  {
   "cell_type": "code",
   "execution_count": 24,
   "id": "06245516",
   "metadata": {},
   "outputs": [],
   "source": [
    "class Chain:\n",
    "    def __init__(self,LLM, template):\n",
    "        self.LLM = LLM\n",
    "        self.template = template\n",
    "\n",
    "    def run(self,input_dict):\n",
    "        prompt = self.template.format(input_dict)\n",
    "        result = self.LLM.predict(prompt)\n",
    "\n",
    "        return result['response']\n",
    "    \n",
    "        "
   ]
  },
  {
   "cell_type": "code",
   "execution_count": 27,
   "id": "b580b39b",
   "metadata": {},
   "outputs": [
    {
     "name": "stdout",
     "output_type": "stream",
     "text": [
      "model instanciated\n"
     ]
    }
   ],
   "source": [
    "llm = LLM()"
   ]
  },
  {
   "cell_type": "code",
   "execution_count": 28,
   "id": "eb28a1b4",
   "metadata": {},
   "outputs": [],
   "source": [
    "template = PromptTemplate(\n",
    "    template='Write a {length} poem about {topic}',\n",
    "    input_varibles=['length', 'topic']\n",
    ")"
   ]
  },
  {
   "cell_type": "code",
   "execution_count": null,
   "id": "16811c43",
   "metadata": {},
   "outputs": [],
   "source": []
  },
  {
   "cell_type": "code",
   "execution_count": null,
   "id": "9f6ae979",
   "metadata": {},
   "outputs": [],
   "source": [
    "chain = Chain(LLM = model, template= template)"
   ]
  },
  {
   "cell_type": "code",
   "execution_count": 31,
   "id": "4c3b2309",
   "metadata": {},
   "outputs": [
    {
     "data": {
      "text/plain": [
       "'This is another example sentence.'"
      ]
     },
     "execution_count": 31,
     "metadata": {},
     "output_type": "execute_result"
    }
   ],
   "source": [
    "chain.run({'length':200,'topic':'RGUKT iiit nuzvid'})"
   ]
  },
  {
   "cell_type": "code",
   "execution_count": null,
   "id": "5e9a1aad",
   "metadata": {},
   "outputs": [],
   "source": []
  },
  {
   "cell_type": "code",
   "execution_count": null,
   "id": "c94e585d",
   "metadata": {},
   "outputs": [],
   "source": []
  }
 ],
 "metadata": {
  "kernelspec": {
   "display_name": "venv",
   "language": "python",
   "name": "python3"
  },
  "language_info": {
   "codemirror_mode": {
    "name": "ipython",
    "version": 3
   },
   "file_extension": ".py",
   "mimetype": "text/x-python",
   "name": "python",
   "nbconvert_exporter": "python",
   "pygments_lexer": "ipython3",
   "version": "3.10.12"
  }
 },
 "nbformat": 4,
 "nbformat_minor": 5
}
